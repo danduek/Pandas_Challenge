{
 "cells": [
  {
   "cell_type": "code",
   "execution_count": 103,
   "metadata": {},
   "outputs": [],
   "source": [
    "# HeroesOfPymoli\n",
    "import pandas as pd"
   ]
  },
  {
   "cell_type": "code",
   "execution_count": 101,
   "metadata": {},
   "outputs": [],
   "source": [
    "file_to_load = \"Resources/purchase_data.csv\""
   ]
  },
  {
   "cell_type": "code",
   "execution_count": 111,
   "metadata": {},
   "outputs": [
    {
     "data": {
      "text/html": [
       "<div>\n",
       "<style scoped>\n",
       "    .dataframe tbody tr th:only-of-type {\n",
       "        vertical-align: middle;\n",
       "    }\n",
       "\n",
       "    .dataframe tbody tr th {\n",
       "        vertical-align: top;\n",
       "    }\n",
       "\n",
       "    .dataframe thead th {\n",
       "        text-align: right;\n",
       "    }\n",
       "</style>\n",
       "<table border=\"1\" class=\"dataframe\">\n",
       "  <thead>\n",
       "    <tr style=\"text-align: right;\">\n",
       "      <th></th>\n",
       "      <th>Purchase ID</th>\n",
       "      <th>SN</th>\n",
       "      <th>Age</th>\n",
       "      <th>Gender</th>\n",
       "      <th>Item ID</th>\n",
       "      <th>Item Name</th>\n",
       "      <th>Price</th>\n",
       "    </tr>\n",
       "  </thead>\n",
       "  <tbody>\n",
       "    <tr>\n",
       "      <th>0</th>\n",
       "      <td>0</td>\n",
       "      <td>Lisim78</td>\n",
       "      <td>20</td>\n",
       "      <td>Male</td>\n",
       "      <td>108</td>\n",
       "      <td>Extraction, Quickblade Of Trembling Hands</td>\n",
       "      <td>3.53</td>\n",
       "    </tr>\n",
       "    <tr>\n",
       "      <th>1</th>\n",
       "      <td>1</td>\n",
       "      <td>Lisovynya38</td>\n",
       "      <td>40</td>\n",
       "      <td>Male</td>\n",
       "      <td>143</td>\n",
       "      <td>Frenzied Scimitar</td>\n",
       "      <td>1.56</td>\n",
       "    </tr>\n",
       "    <tr>\n",
       "      <th>2</th>\n",
       "      <td>2</td>\n",
       "      <td>Ithergue48</td>\n",
       "      <td>24</td>\n",
       "      <td>Male</td>\n",
       "      <td>92</td>\n",
       "      <td>Final Critic</td>\n",
       "      <td>4.88</td>\n",
       "    </tr>\n",
       "    <tr>\n",
       "      <th>3</th>\n",
       "      <td>3</td>\n",
       "      <td>Chamassasya86</td>\n",
       "      <td>24</td>\n",
       "      <td>Male</td>\n",
       "      <td>100</td>\n",
       "      <td>Blindscythe</td>\n",
       "      <td>3.27</td>\n",
       "    </tr>\n",
       "    <tr>\n",
       "      <th>4</th>\n",
       "      <td>4</td>\n",
       "      <td>Iskosia90</td>\n",
       "      <td>23</td>\n",
       "      <td>Male</td>\n",
       "      <td>131</td>\n",
       "      <td>Fury</td>\n",
       "      <td>1.44</td>\n",
       "    </tr>\n",
       "  </tbody>\n",
       "</table>\n",
       "</div>"
      ],
      "text/plain": [
       "   Purchase ID             SN  Age Gender  Item ID  \\\n",
       "0            0        Lisim78   20   Male      108   \n",
       "1            1    Lisovynya38   40   Male      143   \n",
       "2            2     Ithergue48   24   Male       92   \n",
       "3            3  Chamassasya86   24   Male      100   \n",
       "4            4      Iskosia90   23   Male      131   \n",
       "\n",
       "                                   Item Name  Price  \n",
       "0  Extraction, Quickblade Of Trembling Hands   3.53  \n",
       "1                          Frenzied Scimitar   1.56  \n",
       "2                               Final Critic   4.88  \n",
       "3                                Blindscythe   3.27  \n",
       "4                                       Fury   1.44  "
      ]
     },
     "execution_count": 111,
     "metadata": {},
     "output_type": "execute_result"
    }
   ],
   "source": [
    "df = pd.read_csv(\"purchase_data.csv\")\n",
    "df.head()"
   ]
  },
  {
   "cell_type": "code",
   "execution_count": 134,
   "metadata": {},
   "outputs": [
    {
     "data": {
      "text/html": [
       "<div>\n",
       "<style scoped>\n",
       "    .dataframe tbody tr th:only-of-type {\n",
       "        vertical-align: middle;\n",
       "    }\n",
       "\n",
       "    .dataframe tbody tr th {\n",
       "        vertical-align: top;\n",
       "    }\n",
       "\n",
       "    .dataframe thead th {\n",
       "        text-align: right;\n",
       "    }\n",
       "</style>\n",
       "<table border=\"1\" class=\"dataframe\">\n",
       "  <thead>\n",
       "    <tr style=\"text-align: right;\">\n",
       "      <th></th>\n",
       "      <th>Total Players</th>\n",
       "    </tr>\n",
       "  </thead>\n",
       "  <tbody>\n",
       "    <tr>\n",
       "      <th>0</th>\n",
       "      <td>576</td>\n",
       "    </tr>\n",
       "  </tbody>\n",
       "</table>\n",
       "</div>"
      ],
      "text/plain": [
       "   Total Players\n",
       "0            576"
      ]
     },
     "execution_count": 134,
     "metadata": {},
     "output_type": "execute_result"
    }
   ],
   "source": [
    "total_players_final = pd.DataFrame({\"Total Players\": [uniqueplayers]}, columns= [\"Total Players\"])\n",
    "total_players_final"
   ]
  },
  {
   "cell_type": "code",
   "execution_count": 135,
   "metadata": {},
   "outputs": [
    {
     "data": {
      "text/html": [
       "<style  type=\"text/css\" >\n",
       "</style><table id=\"T_8b56fff0_de59_11e9_9c84_086d41d70cfc\" ><thead>    <tr>        <th class=\"blank level0\" ></th>        <th class=\"col_heading level0 col0\" >Number of Unique Items</th>        <th class=\"col_heading level0 col1\" >Average Purchase Price</th>        <th class=\"col_heading level0 col2\" >Number of Purchases</th>        <th class=\"col_heading level0 col3\" >Total Revenue</th>    </tr></thead><tbody>\n",
       "                <tr>\n",
       "                        <th id=\"T_8b56fff0_de59_11e9_9c84_086d41d70cfclevel0_row0\" class=\"row_heading level0 row0\" >0</th>\n",
       "                        <td id=\"T_8b56fff0_de59_11e9_9c84_086d41d70cfcrow0_col0\" class=\"data row0 col0\" >183</td>\n",
       "                        <td id=\"T_8b56fff0_de59_11e9_9c84_086d41d70cfcrow0_col1\" class=\"data row0 col1\" >$3.05</td>\n",
       "                        <td id=\"T_8b56fff0_de59_11e9_9c84_086d41d70cfcrow0_col2\" class=\"data row0 col2\" >780</td>\n",
       "                        <td id=\"T_8b56fff0_de59_11e9_9c84_086d41d70cfcrow0_col3\" class=\"data row0 col3\" >$2379.77</td>\n",
       "            </tr>\n",
       "    </tbody></table>"
      ],
      "text/plain": [
       "<pandas.io.formats.style.Styler at 0x124954b00>"
      ]
     },
     "execution_count": 135,
     "metadata": {},
     "output_type": "execute_result"
    }
   ],
   "source": [
    "#Purchasing Analysis (Total)\n",
    "#Number of Unique Items\n",
    "#Average Purchase Price\n",
    "#Total Number of Purchases\n",
    "#Total Revenue\n",
    "uniqueitems = df['Item ID'].nunique()\n",
    "avg_price = (df['Price'].sum()/df['Price'].count()).round(2)\n",
    "total_purchases = df['Price'].count()\n",
    "total_revenue = df[\"Price\"].sum()\n",
    "\n",
    "total_analysis_df = pd.DataFrame({\"Number of Unique Items\": [uniqueitems], \n",
    "                              \"Average Purchase Price\": [avg_price],\n",
    "                             \"Number of Purchases\": [total_purchases],\n",
    "                             \"Total Revenue\": [total_revenue]}, columns= [\"Number of Unique Items\", \"Average Purchase Price\",\n",
    "                            \"Number of Purchases\", \"Total Revenue\"])\n",
    "\n",
    "total_analysis_df.style.format({\"Average Purchase Price\": \"${:.2f}\", \"Total Revenue\": \"${:.2f}\"})"
   ]
  },
  {
   "cell_type": "code",
   "execution_count": 129,
   "metadata": {},
   "outputs": [
    {
     "data": {
      "text/html": [
       "<style  type=\"text/css\" >\n",
       "</style><table id=\"T_5c44fab2_de2e_11e9_9c84_086d41d70cfc\" ><thead>    <tr>        <th class=\"blank level0\" ></th>        <th class=\"col_heading level0 col0\" >Percentage of Players</th>        <th class=\"col_heading level0 col1\" >Total Count</th>    </tr>    <tr>        <th class=\"index_name level0\" >Gender</th>        <th class=\"blank\" ></th>        <th class=\"blank\" ></th>    </tr></thead><tbody>\n",
       "                <tr>\n",
       "                        <th id=\"T_5c44fab2_de2e_11e9_9c84_086d41d70cfclevel0_row0\" class=\"row_heading level0 row0\" >Male</th>\n",
       "                        <td id=\"T_5c44fab2_de2e_11e9_9c84_086d41d70cfcrow0_col0\" class=\"data row0 col0\" >84.03%</td>\n",
       "                        <td id=\"T_5c44fab2_de2e_11e9_9c84_086d41d70cfcrow0_col1\" class=\"data row0 col1\" >484</td>\n",
       "            </tr>\n",
       "            <tr>\n",
       "                        <th id=\"T_5c44fab2_de2e_11e9_9c84_086d41d70cfclevel0_row1\" class=\"row_heading level0 row1\" >Female</th>\n",
       "                        <td id=\"T_5c44fab2_de2e_11e9_9c84_086d41d70cfcrow1_col0\" class=\"data row1 col0\" >14.06%</td>\n",
       "                        <td id=\"T_5c44fab2_de2e_11e9_9c84_086d41d70cfcrow1_col1\" class=\"data row1 col1\" >81</td>\n",
       "            </tr>\n",
       "            <tr>\n",
       "                        <th id=\"T_5c44fab2_de2e_11e9_9c84_086d41d70cfclevel0_row2\" class=\"row_heading level0 row2\" >Other / Non-Disclosed</th>\n",
       "                        <td id=\"T_5c44fab2_de2e_11e9_9c84_086d41d70cfcrow2_col0\" class=\"data row2 col0\" >1.91%</td>\n",
       "                        <td id=\"T_5c44fab2_de2e_11e9_9c84_086d41d70cfcrow2_col1\" class=\"data row2 col1\" >11</td>\n",
       "            </tr>\n",
       "    </tbody></table>"
      ],
      "text/plain": [
       "<pandas.io.formats.style.Styler at 0x12253b1d0>"
      ]
     },
     "execution_count": 129,
     "metadata": {},
     "output_type": "execute_result"
    }
   ],
   "source": [
    "#Gender Demographics\n",
    "#Percentage and Count of Male Players\n",
    "#Percentage and Count of Female Players\n",
    "#Percentage and Count of Other / Non-Disclosed\n",
    "full_count = df[\"SN\"].nunique()\n",
    "male_count = df[df[\"Gender\"] == \"Male\"][\"SN\"].nunique()\n",
    "femal_ecount = df[df[\"Gender\"] == \"Female\"][\"SN\"].nunique()\n",
    "other_count = fullcount - malecount - femalecount\n",
    "male_perc = ((malecount/fullcount)*100)\n",
    "female_perc = ((femalecount/fullcount)*100)\n",
    "other_perc = ((othercount/fullcount)*100)\n",
    "\n",
    "gender_demo_df = pd.DataFrame({\"Gender\": [\"Male\", \"Female\", \"Other / Non-Disclosed\"], \"Percentage of Players\": [maleperc, femaleperc, otherperc],\n",
    "                                        \"Total Count\": [malecount, femalecount, othercount]}, columns = \n",
    "                                        [\"Gender\", \"Percentage of Players\", \"Total Count\"])\n",
    "                                        \n",
    "gender_demo_final = gender_demo_df.set_index(\"Gender\")\n",
    "gender_demo_final.style.format({\"Percentage of Players\": \"{:.2f}%\"})\n"
   ]
  },
  {
   "cell_type": "code",
   "execution_count": 132,
   "metadata": {},
   "outputs": [
    {
     "data": {
      "text/html": [
       "<style  type=\"text/css\" >\n",
       "</style><table id=\"T_83eb521e_de2e_11e9_9c84_086d41d70cfc\" ><thead>    <tr>        <th class=\"blank level0\" ></th>        <th class=\"col_heading level0 col0\" >Purchase Count</th>        <th class=\"col_heading level0 col1\" >Average Purchase Price</th>        <th class=\"col_heading level0 col2\" >Total Purchase Value</th>        <th class=\"col_heading level0 col3\" >Normalized Totals</th>    </tr>    <tr>        <th class=\"index_name level0\" >Gender</th>        <th class=\"blank\" ></th>        <th class=\"blank\" ></th>        <th class=\"blank\" ></th>        <th class=\"blank\" ></th>    </tr></thead><tbody>\n",
       "                <tr>\n",
       "                        <th id=\"T_83eb521e_de2e_11e9_9c84_086d41d70cfclevel0_row0\" class=\"row_heading level0 row0\" >Male</th>\n",
       "                        <td id=\"T_83eb521e_de2e_11e9_9c84_086d41d70cfcrow0_col0\" class=\"data row0 col0\" >652</td>\n",
       "                        <td id=\"T_83eb521e_de2e_11e9_9c84_086d41d70cfcrow0_col1\" class=\"data row0 col1\" >$3.02</td>\n",
       "                        <td id=\"T_83eb521e_de2e_11e9_9c84_086d41d70cfcrow0_col2\" class=\"data row0 col2\" >$1967.64</td>\n",
       "                        <td id=\"T_83eb521e_de2e_11e9_9c84_086d41d70cfcrow0_col3\" class=\"data row0 col3\" >$4.07</td>\n",
       "            </tr>\n",
       "            <tr>\n",
       "                        <th id=\"T_83eb521e_de2e_11e9_9c84_086d41d70cfclevel0_row1\" class=\"row_heading level0 row1\" >Female</th>\n",
       "                        <td id=\"T_83eb521e_de2e_11e9_9c84_086d41d70cfcrow1_col0\" class=\"data row1 col0\" >113</td>\n",
       "                        <td id=\"T_83eb521e_de2e_11e9_9c84_086d41d70cfcrow1_col1\" class=\"data row1 col1\" >$3.20</td>\n",
       "                        <td id=\"T_83eb521e_de2e_11e9_9c84_086d41d70cfcrow1_col2\" class=\"data row1 col2\" >$361.94</td>\n",
       "                        <td id=\"T_83eb521e_de2e_11e9_9c84_086d41d70cfcrow1_col3\" class=\"data row1 col3\" >$4.47</td>\n",
       "            </tr>\n",
       "            <tr>\n",
       "                        <th id=\"T_83eb521e_de2e_11e9_9c84_086d41d70cfclevel0_row2\" class=\"row_heading level0 row2\" >Other / Non-Disclosed</th>\n",
       "                        <td id=\"T_83eb521e_de2e_11e9_9c84_086d41d70cfcrow2_col0\" class=\"data row2 col0\" >15</td>\n",
       "                        <td id=\"T_83eb521e_de2e_11e9_9c84_086d41d70cfcrow2_col1\" class=\"data row2 col1\" >$3.35</td>\n",
       "                        <td id=\"T_83eb521e_de2e_11e9_9c84_086d41d70cfcrow2_col2\" class=\"data row2 col2\" >$50.19</td>\n",
       "                        <td id=\"T_83eb521e_de2e_11e9_9c84_086d41d70cfcrow2_col3\" class=\"data row2 col3\" >$4.56</td>\n",
       "            </tr>\n",
       "    </tbody></table>"
      ],
      "text/plain": [
       "<pandas.io.formats.style.Styler at 0x12490d358>"
      ]
     },
     "execution_count": 132,
     "metadata": {},
     "output_type": "execute_result"
    }
   ],
   "source": [
    "#Purchasing Analysis (Gender)\n",
    "#The below each broken by gender\n",
    "#Purchase Count\n",
    "#Average Purchase Price\n",
    "#Total Purchase Value\n",
    "#Average Purchase Total per Person by Gender\n",
    "male_purch = df[df[\"Gender\"] == \"Male\"][\"Price\"].count()\n",
    "female_purch = df[df[\"Gender\"] == \"Female\"][\"Price\"].count()\n",
    "other_purch = totalpurchases - malepurch - femalepurch\n",
    "mprice_avg = df[df[\"Gender\"] == \"Male\"]['Price'].mean()\n",
    "fprice_avg = df[df[\"Gender\"] == \"Female\"]['Price'].mean()\n",
    "oprice_avg = df[df[\"Gender\"] == \"Other / Non-Disclosed\"]['Price'].mean()\n",
    "mprice_tot = df[df[\"Gender\"] == \"Male\"]['Price'].sum()\n",
    "fprice_tot = df[df[\"Gender\"] == \"Female\"]['Price'].sum()\n",
    "oprice_tot = df[df[\"Gender\"] == \"Other / Non-Disclosed\"]['Price'].sum()\n",
    "mnorm = mpricetot/malecount\n",
    "fnorm = fpricetot/femalecount\n",
    "onorm = opricetot/othercount\n",
    "\n",
    "gender_purchase_df = pd.DataFrame({\"Gender\": [\"Male\", \"Female\", \"Other / Non-Disclosed\"], \"Purchase Count\": [malepurch, femalepurch, otherpurch],\n",
    "                                        \"Average Purchase Price\": [mpriceavg, fpriceavg, opriceavg], \"Total Purchase Value\": [mpricetot, fpricetot, opricetot],\n",
    "                                \"Normalized Totals\": [mnorm, fnorm, onorm]}, columns = \n",
    "                                        [\"Gender\", \"Purchase Count\", \"Average Purchase Price\", \"Total Purchase Value\", \"Normalized Totals\"])\n",
    "                                        \n",
    "gender_purchase_final = gender_purchase_df.set_index(\"Gender\")\n",
    "gender_purchase_final.style.format({\"Average Purchase Price\": \"${:.2f}\", \"Total Purchase Value\": \"${:.2f}\", \"Normalized Totals\": \"${:.2f}\"})"
   ]
  },
  {
   "cell_type": "code",
   "execution_count": 118,
   "metadata": {},
   "outputs": [
    {
     "data": {
      "text/html": [
       "<style  type=\"text/css\" >\n",
       "</style><table id=\"T_de669014_de29_11e9_9c84_086d41d70cfc\" ><thead>    <tr>        <th class=\"blank level0\" ></th>        <th class=\"col_heading level0 col0\" >Percentage of Players</th>        <th class=\"col_heading level0 col1\" >Total Count</th>    </tr>    <tr>        <th class=\"index_name level0\" >Age</th>        <th class=\"blank\" ></th>        <th class=\"blank\" ></th>    </tr></thead><tbody>\n",
       "                <tr>\n",
       "                        <th id=\"T_de669014_de29_11e9_9c84_086d41d70cfclevel0_row0\" class=\"row_heading level0 row0\" ><10</th>\n",
       "                        <td id=\"T_de669014_de29_11e9_9c84_086d41d70cfcrow0_col0\" class=\"data row0 col0\" >2.95%</td>\n",
       "                        <td id=\"T_de669014_de29_11e9_9c84_086d41d70cfcrow0_col1\" class=\"data row0 col1\" >17</td>\n",
       "            </tr>\n",
       "            <tr>\n",
       "                        <th id=\"T_de669014_de29_11e9_9c84_086d41d70cfclevel0_row1\" class=\"row_heading level0 row1\" >10-14</th>\n",
       "                        <td id=\"T_de669014_de29_11e9_9c84_086d41d70cfcrow1_col0\" class=\"data row1 col0\" >3.82%</td>\n",
       "                        <td id=\"T_de669014_de29_11e9_9c84_086d41d70cfcrow1_col1\" class=\"data row1 col1\" >22</td>\n",
       "            </tr>\n",
       "            <tr>\n",
       "                        <th id=\"T_de669014_de29_11e9_9c84_086d41d70cfclevel0_row2\" class=\"row_heading level0 row2\" >15-19</th>\n",
       "                        <td id=\"T_de669014_de29_11e9_9c84_086d41d70cfcrow2_col0\" class=\"data row2 col0\" >18.58%</td>\n",
       "                        <td id=\"T_de669014_de29_11e9_9c84_086d41d70cfcrow2_col1\" class=\"data row2 col1\" >107</td>\n",
       "            </tr>\n",
       "            <tr>\n",
       "                        <th id=\"T_de669014_de29_11e9_9c84_086d41d70cfclevel0_row3\" class=\"row_heading level0 row3\" >20-24</th>\n",
       "                        <td id=\"T_de669014_de29_11e9_9c84_086d41d70cfcrow3_col0\" class=\"data row3 col0\" >44.79%</td>\n",
       "                        <td id=\"T_de669014_de29_11e9_9c84_086d41d70cfcrow3_col1\" class=\"data row3 col1\" >258</td>\n",
       "            </tr>\n",
       "            <tr>\n",
       "                        <th id=\"T_de669014_de29_11e9_9c84_086d41d70cfclevel0_row4\" class=\"row_heading level0 row4\" >25-29</th>\n",
       "                        <td id=\"T_de669014_de29_11e9_9c84_086d41d70cfcrow4_col0\" class=\"data row4 col0\" >13.37%</td>\n",
       "                        <td id=\"T_de669014_de29_11e9_9c84_086d41d70cfcrow4_col1\" class=\"data row4 col1\" >77</td>\n",
       "            </tr>\n",
       "            <tr>\n",
       "                        <th id=\"T_de669014_de29_11e9_9c84_086d41d70cfclevel0_row5\" class=\"row_heading level0 row5\" >30-34</th>\n",
       "                        <td id=\"T_de669014_de29_11e9_9c84_086d41d70cfcrow5_col0\" class=\"data row5 col0\" >9.03%</td>\n",
       "                        <td id=\"T_de669014_de29_11e9_9c84_086d41d70cfcrow5_col1\" class=\"data row5 col1\" >52</td>\n",
       "            </tr>\n",
       "            <tr>\n",
       "                        <th id=\"T_de669014_de29_11e9_9c84_086d41d70cfclevel0_row6\" class=\"row_heading level0 row6\" >35-39</th>\n",
       "                        <td id=\"T_de669014_de29_11e9_9c84_086d41d70cfcrow6_col0\" class=\"data row6 col0\" >5.38%</td>\n",
       "                        <td id=\"T_de669014_de29_11e9_9c84_086d41d70cfcrow6_col1\" class=\"data row6 col1\" >31</td>\n",
       "            </tr>\n",
       "            <tr>\n",
       "                        <th id=\"T_de669014_de29_11e9_9c84_086d41d70cfclevel0_row7\" class=\"row_heading level0 row7\" >40-44</th>\n",
       "                        <td id=\"T_de669014_de29_11e9_9c84_086d41d70cfcrow7_col0\" class=\"data row7 col0\" >1.91%</td>\n",
       "                        <td id=\"T_de669014_de29_11e9_9c84_086d41d70cfcrow7_col1\" class=\"data row7 col1\" >11</td>\n",
       "            </tr>\n",
       "            <tr>\n",
       "                        <th id=\"T_de669014_de29_11e9_9c84_086d41d70cfclevel0_row8\" class=\"row_heading level0 row8\" >45-49</th>\n",
       "                        <td id=\"T_de669014_de29_11e9_9c84_086d41d70cfcrow8_col0\" class=\"data row8 col0\" >0.17%</td>\n",
       "                        <td id=\"T_de669014_de29_11e9_9c84_086d41d70cfcrow8_col1\" class=\"data row8 col1\" >1</td>\n",
       "            </tr>\n",
       "    </tbody></table>"
      ],
      "text/plain": [
       "<pandas.io.formats.style.Styler at 0x1249205f8>"
      ]
     },
     "execution_count": 118,
     "metadata": {},
     "output_type": "execute_result"
    }
   ],
   "source": [
    "#Age Demographics\n",
    "#The below each broken into bins of 4 years (i.e. <10, 10-14, 15-19, etc.)\n",
    "#Purchase Count\n",
    "#Average Purchase Price\n",
    "#Total Purchase Value\n",
    "#Average Purchase Total per Person by Age Group\n",
    "tenyears = df[df[\"Age\"] <10]\n",
    "loteens = df[(df[\"Age\"] >=10) & (df[\"Age\"] <=14)]\n",
    "hiteens = df[(df[\"Age\"] >=15) & (df[\"Age\"] <=19)]\n",
    "lotwent = df[(df[\"Age\"] >=20) & (df[\"Age\"] <=24)]\n",
    "hitwent = df[(df[\"Age\"] >=25) & (df[\"Age\"] <=29)]\n",
    "lothirt = df[(df[\"Age\"] >=30) & (df[\"Age\"] <=34)]\n",
    "hithirt = df[(df[\"Age\"] >=35) & (df[\"Age\"] <=39)]\n",
    "loforty = df[(df[\"Age\"] >=40) & (df[\"Age\"] <=44)]\n",
    "hiforty = df[(df[\"Age\"] >=45) & (df[\"Age\"] <=49)]\n",
    "\n",
    "age_demo_df = pd.DataFrame({\"Age\": [\"<10\", \"10-14\", \"15-19\", \"20-24\", \"25-29\", \"30-34\", \"35-39\", \"40-44\", \"45-49\"],\n",
    "                        \"Percentage of Players\": [(tenyears[\"SN\"].nunique()/fullcount)*100, (loteens[\"SN\"].nunique()/fullcount)*100, (hiteens[\"SN\"].nunique()/fullcount)*100, (lotwent[\"SN\"].nunique()/fullcount)*100, (hitwent[\"SN\"].nunique()/fullcount)*100, (lothirt[\"SN\"].nunique()/fullcount)*100, (hithirt[\"SN\"].nunique()/fullcount)*100, (loforty[\"SN\"].nunique()/fullcount)*100, (hiforty[\"SN\"].nunique()/fullcount)*100],\n",
    "                        \"Total Count\": [tenyears[\"SN\"].nunique(), loteens[\"SN\"].nunique(), hiteens[\"SN\"].nunique(), lotwent[\"SN\"].nunique(), hitwent[\"SN\"].nunique(), lothirt[\"SN\"].nunique(), hithirt[\"SN\"].nunique(), loforty[\"SN\"].nunique(), hiforty[\"SN\"].nunique()]\n",
    "                       })\n",
    "\n",
    "age_demo_final = age_demo_df.set_index(\"Age\")\n",
    "age_demo_final.style.format({\"Percentage of Players\": \"{:.2f}%\"})"
   ]
  },
  {
   "cell_type": "code",
   "execution_count": 120,
   "metadata": {},
   "outputs": [
    {
     "data": {
      "text/html": [
       "<style  type=\"text/css\" >\n",
       "</style><table id=\"T_9b5ddc7e_de2d_11e9_9c84_086d41d70cfc\" ><thead>    <tr>        <th class=\"blank level0\" ></th>        <th class=\"col_heading level0 col0\" >Purchase Count</th>        <th class=\"col_heading level0 col1\" >Average Purchase Price</th>        <th class=\"col_heading level0 col2\" >Total Purchase Value</th>    </tr>    <tr>        <th class=\"index_name level0\" >SN</th>        <th class=\"blank\" ></th>        <th class=\"blank\" ></th>        <th class=\"blank\" ></th>    </tr></thead><tbody>\n",
       "                <tr>\n",
       "                        <th id=\"T_9b5ddc7e_de2d_11e9_9c84_086d41d70cfclevel0_row0\" class=\"row_heading level0 row0\" >Lisosia93</th>\n",
       "                        <td id=\"T_9b5ddc7e_de2d_11e9_9c84_086d41d70cfcrow0_col0\" class=\"data row0 col0\" >5</td>\n",
       "                        <td id=\"T_9b5ddc7e_de2d_11e9_9c84_086d41d70cfcrow0_col1\" class=\"data row0 col1\" >$3.79</td>\n",
       "                        <td id=\"T_9b5ddc7e_de2d_11e9_9c84_086d41d70cfcrow0_col2\" class=\"data row0 col2\" >$18.96</td>\n",
       "            </tr>\n",
       "            <tr>\n",
       "                        <th id=\"T_9b5ddc7e_de2d_11e9_9c84_086d41d70cfclevel0_row1\" class=\"row_heading level0 row1\" >Idastidru52</th>\n",
       "                        <td id=\"T_9b5ddc7e_de2d_11e9_9c84_086d41d70cfcrow1_col0\" class=\"data row1 col0\" >4</td>\n",
       "                        <td id=\"T_9b5ddc7e_de2d_11e9_9c84_086d41d70cfcrow1_col1\" class=\"data row1 col1\" >$3.86</td>\n",
       "                        <td id=\"T_9b5ddc7e_de2d_11e9_9c84_086d41d70cfcrow1_col2\" class=\"data row1 col2\" >$15.45</td>\n",
       "            </tr>\n",
       "            <tr>\n",
       "                        <th id=\"T_9b5ddc7e_de2d_11e9_9c84_086d41d70cfclevel0_row2\" class=\"row_heading level0 row2\" >Chamjask73</th>\n",
       "                        <td id=\"T_9b5ddc7e_de2d_11e9_9c84_086d41d70cfcrow2_col0\" class=\"data row2 col0\" >3</td>\n",
       "                        <td id=\"T_9b5ddc7e_de2d_11e9_9c84_086d41d70cfcrow2_col1\" class=\"data row2 col1\" >$4.61</td>\n",
       "                        <td id=\"T_9b5ddc7e_de2d_11e9_9c84_086d41d70cfcrow2_col2\" class=\"data row2 col2\" >$13.83</td>\n",
       "            </tr>\n",
       "            <tr>\n",
       "                        <th id=\"T_9b5ddc7e_de2d_11e9_9c84_086d41d70cfclevel0_row3\" class=\"row_heading level0 row3\" >Iral74</th>\n",
       "                        <td id=\"T_9b5ddc7e_de2d_11e9_9c84_086d41d70cfcrow3_col0\" class=\"data row3 col0\" >4</td>\n",
       "                        <td id=\"T_9b5ddc7e_de2d_11e9_9c84_086d41d70cfcrow3_col1\" class=\"data row3 col1\" >$3.40</td>\n",
       "                        <td id=\"T_9b5ddc7e_de2d_11e9_9c84_086d41d70cfcrow3_col2\" class=\"data row3 col2\" >$13.62</td>\n",
       "            </tr>\n",
       "            <tr>\n",
       "                        <th id=\"T_9b5ddc7e_de2d_11e9_9c84_086d41d70cfclevel0_row4\" class=\"row_heading level0 row4\" >Iskadarya95</th>\n",
       "                        <td id=\"T_9b5ddc7e_de2d_11e9_9c84_086d41d70cfcrow4_col0\" class=\"data row4 col0\" >3</td>\n",
       "                        <td id=\"T_9b5ddc7e_de2d_11e9_9c84_086d41d70cfcrow4_col1\" class=\"data row4 col1\" >$4.37</td>\n",
       "                        <td id=\"T_9b5ddc7e_de2d_11e9_9c84_086d41d70cfcrow4_col2\" class=\"data row4 col2\" >$13.10</td>\n",
       "            </tr>\n",
       "    </tbody></table>"
      ],
      "text/plain": [
       "<pandas.io.formats.style.Styler at 0x124917be0>"
      ]
     },
     "execution_count": 120,
     "metadata": {},
     "output_type": "execute_result"
    }
   ],
   "source": [
    "#Top Spenders\n",
    "#Identify the the top 5 spenders in the game by total purchase value, then list (in a table):\n",
    "#SN\n",
    "#Purchase Count\n",
    "#Average Purchase Price\n",
    "#Total Purchase Value\n",
    "sn_total_purchase = df.groupby('SN')['Price'].sum().to_frame()\n",
    "sn_purchase_count = df.groupby('SN')['Price'].count().to_frame()\n",
    "sn_purchase_avg = df.groupby('SN')['Price'].mean().to_frame()\n",
    "\n",
    "sn_total_purchase.columns=[\"Total Purchase Value\"]\n",
    "join_one = sn_total_purchase.join(sn_purchase_count, how=\"left\")\n",
    "join_one.columns=[\"Total Purchase Value\", \"Purchase Count\"]\n",
    "\n",
    "join_two = join_one.join(sn_purchase_avg, how=\"inner\")\n",
    "join_two.columns=[\"Total Purchase Value\", \"Purchase Count\", \"Average Purchase Price\"]\n",
    "\n",
    "top_spenders_df = join_two[[\"Purchase Count\", \"Average Purchase Price\", \"Total Purchase Value\"]]\n",
    "top_spenders_final = top_spenders_df.sort_values('Total Purchase Value', ascending=False).head()\n",
    "top_spenders_final.style.format({\"Average Purchase Price\": \"${:.2f}\", \"Total Purchase Value\": \"${:.2f}\"})\n"
   ]
  },
  {
   "cell_type": "code",
   "execution_count": 121,
   "metadata": {},
   "outputs": [
    {
     "data": {
      "text/html": [
       "<style  type=\"text/css\" >\n",
       "</style><table id=\"T_b341466e_de2d_11e9_9c84_086d41d70cfc\" ><thead>    <tr>        <th class=\"blank\" ></th>        <th class=\"blank level0\" ></th>        <th class=\"col_heading level0 col0\" >Purchase Count</th>        <th class=\"col_heading level0 col1\" >Item Price</th>        <th class=\"col_heading level0 col2\" >Total Purchase Value</th>    </tr>    <tr>        <th class=\"index_name level0\" >Item Name</th>        <th class=\"index_name level1\" >Item ID</th>        <th class=\"blank\" ></th>        <th class=\"blank\" ></th>        <th class=\"blank\" ></th>    </tr></thead><tbody>\n",
       "                <tr>\n",
       "                        <th id=\"T_b341466e_de2d_11e9_9c84_086d41d70cfclevel0_row0\" class=\"row_heading level0 row0\" >Oathbreaker, Last Hope of the Breaking Storm</th>\n",
       "                        <th id=\"T_b341466e_de2d_11e9_9c84_086d41d70cfclevel1_row0\" class=\"row_heading level1 row0\" >178</th>\n",
       "                        <td id=\"T_b341466e_de2d_11e9_9c84_086d41d70cfcrow0_col0\" class=\"data row0 col0\" >12</td>\n",
       "                        <td id=\"T_b341466e_de2d_11e9_9c84_086d41d70cfcrow0_col1\" class=\"data row0 col1\" >$4.23</td>\n",
       "                        <td id=\"T_b341466e_de2d_11e9_9c84_086d41d70cfcrow0_col2\" class=\"data row0 col2\" >$50.76</td>\n",
       "            </tr>\n",
       "            <tr>\n",
       "                        <th id=\"T_b341466e_de2d_11e9_9c84_086d41d70cfclevel0_row1\" class=\"row_heading level0 row1\" >Nirvana</th>\n",
       "                        <th id=\"T_b341466e_de2d_11e9_9c84_086d41d70cfclevel1_row1\" class=\"row_heading level1 row1\" >82</th>\n",
       "                        <td id=\"T_b341466e_de2d_11e9_9c84_086d41d70cfcrow1_col0\" class=\"data row1 col0\" >9</td>\n",
       "                        <td id=\"T_b341466e_de2d_11e9_9c84_086d41d70cfcrow1_col1\" class=\"data row1 col1\" >$4.90</td>\n",
       "                        <td id=\"T_b341466e_de2d_11e9_9c84_086d41d70cfcrow1_col2\" class=\"data row1 col2\" >$44.10</td>\n",
       "            </tr>\n",
       "            <tr>\n",
       "                        <th id=\"T_b341466e_de2d_11e9_9c84_086d41d70cfclevel0_row2\" class=\"row_heading level0 row2\" >Fiery Glass Crusader</th>\n",
       "                        <th id=\"T_b341466e_de2d_11e9_9c84_086d41d70cfclevel1_row2\" class=\"row_heading level1 row2\" >145</th>\n",
       "                        <td id=\"T_b341466e_de2d_11e9_9c84_086d41d70cfcrow2_col0\" class=\"data row2 col0\" >9</td>\n",
       "                        <td id=\"T_b341466e_de2d_11e9_9c84_086d41d70cfcrow2_col1\" class=\"data row2 col1\" >$4.58</td>\n",
       "                        <td id=\"T_b341466e_de2d_11e9_9c84_086d41d70cfcrow2_col2\" class=\"data row2 col2\" >$41.22</td>\n",
       "            </tr>\n",
       "            <tr>\n",
       "                        <th id=\"T_b341466e_de2d_11e9_9c84_086d41d70cfclevel0_row3\" class=\"row_heading level0 row3\" >Extraction, Quickblade Of Trembling Hands</th>\n",
       "                        <th id=\"T_b341466e_de2d_11e9_9c84_086d41d70cfclevel1_row3\" class=\"row_heading level1 row3\" >108</th>\n",
       "                        <td id=\"T_b341466e_de2d_11e9_9c84_086d41d70cfcrow3_col0\" class=\"data row3 col0\" >9</td>\n",
       "                        <td id=\"T_b341466e_de2d_11e9_9c84_086d41d70cfcrow3_col1\" class=\"data row3 col1\" >$3.53</td>\n",
       "                        <td id=\"T_b341466e_de2d_11e9_9c84_086d41d70cfcrow3_col2\" class=\"data row3 col2\" >$31.77</td>\n",
       "            </tr>\n",
       "            <tr>\n",
       "                        <th id=\"T_b341466e_de2d_11e9_9c84_086d41d70cfclevel0_row4\" class=\"row_heading level0 row4\" >Singed Scalpel</th>\n",
       "                        <th id=\"T_b341466e_de2d_11e9_9c84_086d41d70cfclevel1_row4\" class=\"row_heading level1 row4\" >103</th>\n",
       "                        <td id=\"T_b341466e_de2d_11e9_9c84_086d41d70cfcrow4_col0\" class=\"data row4 col0\" >8</td>\n",
       "                        <td id=\"T_b341466e_de2d_11e9_9c84_086d41d70cfcrow4_col1\" class=\"data row4 col1\" >$4.35</td>\n",
       "                        <td id=\"T_b341466e_de2d_11e9_9c84_086d41d70cfcrow4_col2\" class=\"data row4 col2\" >$34.80</td>\n",
       "            </tr>\n",
       "            <tr>\n",
       "                        <th id=\"T_b341466e_de2d_11e9_9c84_086d41d70cfclevel0_row5\" class=\"row_heading level0 row5\" >Wolf</th>\n",
       "                        <th id=\"T_b341466e_de2d_11e9_9c84_086d41d70cfclevel1_row5\" class=\"row_heading level1 row5\" >60</th>\n",
       "                        <td id=\"T_b341466e_de2d_11e9_9c84_086d41d70cfcrow5_col0\" class=\"data row5 col0\" >8</td>\n",
       "                        <td id=\"T_b341466e_de2d_11e9_9c84_086d41d70cfcrow5_col1\" class=\"data row5 col1\" >$3.54</td>\n",
       "                        <td id=\"T_b341466e_de2d_11e9_9c84_086d41d70cfcrow5_col2\" class=\"data row5 col2\" >$28.32</td>\n",
       "            </tr>\n",
       "    </tbody></table>"
      ],
      "text/plain": [
       "<pandas.io.formats.style.Styler at 0x124920b38>"
      ]
     },
     "execution_count": 121,
     "metadata": {},
     "output_type": "execute_result"
    }
   ],
   "source": [
    "#Most Popular Items\n",
    "#Identify the 5 most popular items by purchase count, then list (in a table):\n",
    "#Item ID\n",
    "#Item Name\n",
    "#Purchase Count\n",
    "#Item Price\n",
    "#Total Purchase Value\n",
    "\n",
    "premergeone = df.groupby(\"Item Name\").sum().reset_index()\n",
    "premergetwo = df.groupby(\"Item ID\").sum().reset_index()\n",
    "premergethree = df.groupby(\"Item Name\").count().reset_index()\n",
    "\n",
    "mergeone = pd.merge(premergeone, premergetwo, on=\"Price\")\n",
    "mergetwo = pd.merge(premergethree, mergeone, on=\"Item Name\")\n",
    "\n",
    "mergetwo[\"Gender\"] = (mergetwo[\"Price_y\"]/mergetwo[\"Item ID\"]).round(2)\n",
    "\n",
    "mergetwo_renamed = mergetwo.rename(columns={\"Age\": \"Purchase Count\", \"Gender\": \"Item Price\", \"Item ID\": \"null\", \"Price_y\": \"Total Purchase Value\", \"Item ID_y\": \"Item ID\"})\n",
    "\n",
    "clean_df = mergetwo_renamed[[\"Item ID\", \"Item Name\", \"Purchase Count\", \"Item Price\", \"Total Purchase Value\"]]\n",
    "\n",
    "prefinal_df = clean_df.set_index(['Item Name', 'Item ID'])\n",
    "popular_items_final = prefinal_df.sort_values('Purchase Count', ascending=False).head(6)\n",
    "popular_items_final.style.format({\"Item Price\": \"${:.2f}\", \"Total Purchase Value\": \"${:.2f}\"})"
   ]
  },
  {
   "cell_type": "code",
   "execution_count": 122,
   "metadata": {},
   "outputs": [
    {
     "data": {
      "text/html": [
       "<style  type=\"text/css\" >\n",
       "</style><table id=\"T_c7981c1e_de2d_11e9_9c84_086d41d70cfc\" ><thead>    <tr>        <th class=\"blank\" ></th>        <th class=\"blank level0\" ></th>        <th class=\"col_heading level0 col0\" >Purchase Count</th>        <th class=\"col_heading level0 col1\" >Item Price</th>        <th class=\"col_heading level0 col2\" >Total Purchase Value</th>    </tr>    <tr>        <th class=\"index_name level0\" >Item Name</th>        <th class=\"index_name level1\" >Item ID</th>        <th class=\"blank\" ></th>        <th class=\"blank\" ></th>        <th class=\"blank\" ></th>    </tr></thead><tbody>\n",
       "                <tr>\n",
       "                        <th id=\"T_c7981c1e_de2d_11e9_9c84_086d41d70cfclevel0_row0\" class=\"row_heading level0 row0\" >Oathbreaker, Last Hope of the Breaking Storm</th>\n",
       "                        <th id=\"T_c7981c1e_de2d_11e9_9c84_086d41d70cfclevel1_row0\" class=\"row_heading level1 row0\" >178</th>\n",
       "                        <td id=\"T_c7981c1e_de2d_11e9_9c84_086d41d70cfcrow0_col0\" class=\"data row0 col0\" >12</td>\n",
       "                        <td id=\"T_c7981c1e_de2d_11e9_9c84_086d41d70cfcrow0_col1\" class=\"data row0 col1\" >$4.23</td>\n",
       "                        <td id=\"T_c7981c1e_de2d_11e9_9c84_086d41d70cfcrow0_col2\" class=\"data row0 col2\" >$50.76</td>\n",
       "            </tr>\n",
       "            <tr>\n",
       "                        <th id=\"T_c7981c1e_de2d_11e9_9c84_086d41d70cfclevel0_row1\" class=\"row_heading level0 row1\" >Nirvana</th>\n",
       "                        <th id=\"T_c7981c1e_de2d_11e9_9c84_086d41d70cfclevel1_row1\" class=\"row_heading level1 row1\" >82</th>\n",
       "                        <td id=\"T_c7981c1e_de2d_11e9_9c84_086d41d70cfcrow1_col0\" class=\"data row1 col0\" >9</td>\n",
       "                        <td id=\"T_c7981c1e_de2d_11e9_9c84_086d41d70cfcrow1_col1\" class=\"data row1 col1\" >$4.90</td>\n",
       "                        <td id=\"T_c7981c1e_de2d_11e9_9c84_086d41d70cfcrow1_col2\" class=\"data row1 col2\" >$44.10</td>\n",
       "            </tr>\n",
       "            <tr>\n",
       "                        <th id=\"T_c7981c1e_de2d_11e9_9c84_086d41d70cfclevel0_row2\" class=\"row_heading level0 row2\" >Fiery Glass Crusader</th>\n",
       "                        <th id=\"T_c7981c1e_de2d_11e9_9c84_086d41d70cfclevel1_row2\" class=\"row_heading level1 row2\" >145</th>\n",
       "                        <td id=\"T_c7981c1e_de2d_11e9_9c84_086d41d70cfcrow2_col0\" class=\"data row2 col0\" >9</td>\n",
       "                        <td id=\"T_c7981c1e_de2d_11e9_9c84_086d41d70cfcrow2_col1\" class=\"data row2 col1\" >$4.58</td>\n",
       "                        <td id=\"T_c7981c1e_de2d_11e9_9c84_086d41d70cfcrow2_col2\" class=\"data row2 col2\" >$41.22</td>\n",
       "            </tr>\n",
       "            <tr>\n",
       "                        <th id=\"T_c7981c1e_de2d_11e9_9c84_086d41d70cfclevel0_row3\" class=\"row_heading level0 row3\" >Singed Scalpel</th>\n",
       "                        <th id=\"T_c7981c1e_de2d_11e9_9c84_086d41d70cfclevel1_row3\" class=\"row_heading level1 row3\" >103</th>\n",
       "                        <td id=\"T_c7981c1e_de2d_11e9_9c84_086d41d70cfcrow3_col0\" class=\"data row3 col0\" >8</td>\n",
       "                        <td id=\"T_c7981c1e_de2d_11e9_9c84_086d41d70cfcrow3_col1\" class=\"data row3 col1\" >$4.35</td>\n",
       "                        <td id=\"T_c7981c1e_de2d_11e9_9c84_086d41d70cfcrow3_col2\" class=\"data row3 col2\" >$34.80</td>\n",
       "            </tr>\n",
       "            <tr>\n",
       "                        <th id=\"T_c7981c1e_de2d_11e9_9c84_086d41d70cfclevel0_row4\" class=\"row_heading level0 row4\" >Lightning, Etcher of the King</th>\n",
       "                        <th id=\"T_c7981c1e_de2d_11e9_9c84_086d41d70cfclevel1_row4\" class=\"row_heading level1 row4\" >59</th>\n",
       "                        <td id=\"T_c7981c1e_de2d_11e9_9c84_086d41d70cfcrow4_col0\" class=\"data row4 col0\" >8</td>\n",
       "                        <td id=\"T_c7981c1e_de2d_11e9_9c84_086d41d70cfcrow4_col1\" class=\"data row4 col1\" >$4.23</td>\n",
       "                        <td id=\"T_c7981c1e_de2d_11e9_9c84_086d41d70cfcrow4_col2\" class=\"data row4 col2\" >$33.84</td>\n",
       "            </tr>\n",
       "    </tbody></table>"
      ],
      "text/plain": [
       "<pandas.io.formats.style.Styler at 0x124917e80>"
      ]
     },
     "execution_count": 122,
     "metadata": {},
     "output_type": "execute_result"
    }
   ],
   "source": [
    "#Most Profitable Items\n",
    "#Identify the 5 most profitable items by total purchase value, then list (in a table):\n",
    "\n",
    "#Item ID\n",
    "#Item Name\n",
    "#Purchase Count\n",
    "#Item Price\n",
    "#Total Purchase Value\n",
    "\n",
    "#use prefinal dataframe from prior to step to find most profitable items\n",
    "\n",
    "profit_items_final = prefinal_df.sort_values('Total Purchase Value', ascending=False).head()\n",
    "profit_items_final.style.format({\"Item Price\": \"${:.2f}\", \"Total Purchase Value\": \"${:.2f}\"})"
   ]
  },
  {
   "cell_type": "code",
   "execution_count": 136,
   "metadata": {},
   "outputs": [],
   "source": [
    "#TENDENCIAS\n",
    "# En cuanto a edad demográfica se puede ver que el casí el 45% de los \n",
    "   #jugadores activos se encuentran entre los 20 y 24 años.\n",
    "# De los 576 jugadores activos la gran mayoria son del genero masculino \n",
    "   #con un 84% aportando casi $2000 del valor total de compra.\n",
    "# El producto más vendido es el Oathbreaker y tambien es el más rentable."
   ]
  }
 ],
 "metadata": {
  "kernelspec": {
   "display_name": "Python 3",
   "language": "python",
   "name": "python3"
  },
  "language_info": {
   "codemirror_mode": {
    "name": "ipython",
    "version": 3
   },
   "file_extension": ".py",
   "mimetype": "text/x-python",
   "name": "python",
   "nbconvert_exporter": "python",
   "pygments_lexer": "ipython3",
   "version": "3.7.3"
  }
 },
 "nbformat": 4,
 "nbformat_minor": 2
}
